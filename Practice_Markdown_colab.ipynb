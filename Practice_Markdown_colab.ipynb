{
  "cells": [
    {
      "cell_type": "markdown",
      "metadata": {
        "id": "view-in-github",
        "colab_type": "text"
      },
      "source": [
        "<a href=\"https://colab.research.google.com/github/CristopherRL/duke_univ_cloud_foundations/blob/main/Practice_Markdown_colab.ipynb\" target=\"_parent\"><img src=\"https://colab.research.google.com/assets/colab-badge.svg\" alt=\"Open In Colab\"/></a>"
      ]
    },
    {
      "cell_type": "markdown",
      "metadata": {
        "id": "DhsGO60tOKdt"
      },
      "source": [
        "## Practice Markdown"
      ]
    },
    {
      "cell_type": "markdown",
      "metadata": {
        "id": "Ary7JOeyOKdy"
      },
      "source": [
        "This notebook lets you experiment with producing repeatable technical documentation.  Use this notebook to do the following actions:\n",
        "\n",
        "* Create a code cell and print a Python Hello World statement:  `print(\"hello world\")`\n",
        "* Create a Markdown Cell and add a Title using `#` and then a statement using plain text.  You can looks at the source code for this cell to get an idea of how to use Markdown.\n",
        "* Take some ideas from the [Master Markdown Github Guide](https://guides.github.com/features/mastering-markdown/) and implement them here.\n",
        "* Download this notebook as a `.ipynb` file and check into a Github Project.  You can [see an example here](https://github.com/noahgift/duke-coursera-ccf-lab1/blob/main/Practice-Markdown.ipynb).\n",
        "* Open your notebook in Google Colab and save it into the same Github Project.  You can [see an example here](https://github.com/noahgift/duke-coursera-ccf-lab1/blob/main/Practice_Markdown_with_colab.ipynb).\n"
      ]
    },
    {
      "cell_type": "code",
      "execution_count": null,
      "metadata": {
        "id": "_9c2kBDJOKd0",
        "outputId": "49859107-5ace-41c8-f8b8-1f14e8ebca6f"
      },
      "outputs": [
        {
          "name": "stdout",
          "output_type": "stream",
          "text": [
            "hello world\n"
          ]
        }
      ],
      "source": [
        "print(\"hello world\")"
      ]
    },
    {
      "cell_type": "markdown",
      "metadata": {
        "id": "vRuFbGdSOKd4"
      },
      "source": [
        "# Creating markdown cell\n",
        "Here you can see it"
      ]
    },
    {
      "cell_type": "markdown",
      "metadata": {
        "id": "BNQc_M-jOKd5"
      },
      "source": [
        "~~texto tachado~~"
      ]
    },
    {
      "cell_type": "markdown",
      "metadata": {
        "id": "_FdWdmPyOKd6"
      },
      "source": [
        "## Holla\n",
        "<subindice que hay aqui>"
      ]
    },
    {
      "cell_type": "markdown",
      "metadata": {
        "id": "Wygtthw5OKd7"
      },
      "source": [
        "</super>"
      ]
    },
    {
      "cell_type": "markdown",
      "metadata": {
        "id": "OwvQaHD2OKd7"
      },
      "source": [
        "Abajo hay codigo \n",
        "```\n",
        "git \n",
        "docker\n",
        "```\n"
      ]
    },
    {
      "cell_type": "markdown",
      "metadata": {
        "id": "YfmkK9GiOKd8"
      },
      "source": [
        "- pues\n",
        " - no\n",
        "    - se"
      ]
    },
    {
      "cell_type": "code",
      "execution_count": null,
      "metadata": {
        "collapsed": true,
        "id": "eZ0YpXoQOKeF"
      },
      "outputs": [],
      "source": [
        ""
      ]
    }
  ],
  "metadata": {
    "kernelspec": {
      "display_name": "Python 3",
      "language": "python",
      "name": "python3"
    },
    "language_info": {
      "codemirror_mode": {
        "name": "ipython",
        "version": 3
      },
      "file_extension": ".py",
      "mimetype": "text/x-python",
      "name": "python",
      "nbconvert_exporter": "python",
      "pygments_lexer": "ipython3",
      "version": "3.7.6"
    },
    "colab": {
      "name": "Practice_Markdown_colab.ipynb",
      "provenance": [],
      "include_colab_link": true
    }
  },
  "nbformat": 4,
  "nbformat_minor": 0
}